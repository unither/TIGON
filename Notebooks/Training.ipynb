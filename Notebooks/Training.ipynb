{
 "cells": [
  {
   "attachments": {},
   "cell_type": "markdown",
   "id": "fb5d4c94",
   "metadata": {},
   "source": [
    "## Introduction\n",
    "\n",
    "In this tutorial, we demonstrate the training procedure of TIGON on EMT dataset. The EMT dataset is time-series scRNA-seq dataset from an A549 cancer cell line where cells were exposed to TGFB1 to induce EMT at the first five time points [1].\n",
    "\n",
    "Here we have processed the dataset into 3-dimensional UMAP space, and use the UMAP embedding space as the input.\n",
    "\n",
    "References:\n",
    "1. Cook, D.P. and B.C. Vanderhyden, Context specificity of the EMT transcriptional response. Nature communications, 2020. 11(1): p. 2142"
   ]
  },
  {
   "cell_type": "code",
   "execution_count": 1,
   "id": "9754f8db",
   "metadata": {},
   "outputs": [
    {
     "name": "stderr",
     "output_type": "stream",
     "text": [
      "c:\\Users\\jferrarigian\\AppData\\Local\\miniconda3\\envs\\tigon\\lib\\site-packages\\tqdm\\auto.py:21: TqdmWarning: IProgress not found. Please update jupyter and ipywidgets. See https://ipywidgets.readthedocs.io/en/stable/user_install.html\n",
      "  from .autonotebook import tqdm as notebook_tqdm\n"
     ]
    }
   ],
   "source": [
    "import os\n",
    "import numpy as np\n",
    "import torch\n",
    "import torch.nn as nn\n",
    "import torch.optim as optim\n",
    "\n",
    "import sys\n",
    "sys.path.append(r'C:\\Users\\jferrarigian\\repos\\TIGON\\\\')\n",
    "from utility import *\n",
    "\n"
   ]
  },
  {
   "cell_type": "markdown",
   "id": "faed0dc2",
   "metadata": {},
   "source": [
    "Here we use a training with 5 iterations as an example. \n",
    "GPU is suggested for training."
   ]
  },
  {
   "cell_type": "code",
   "execution_count": 2,
   "id": "d660658e",
   "metadata": {},
   "outputs": [],
   "source": [
    "args = create_args()"
   ]
  },
  {
   "cell_type": "code",
   "execution_count": null,
   "id": "6198c960",
   "metadata": {},
   "outputs": [
    {
     "ename": "FileNotFoundError",
     "evalue": "[Errno 2] No such file or directory: 'Input/EMT.npy'",
     "output_type": "error",
     "traceback": [
      "\u001b[1;31m---------------------------------------------------------------------------\u001b[0m",
      "\u001b[1;31mFileNotFoundError\u001b[0m                         Traceback (most recent call last)",
      "Cell \u001b[1;32mIn[3], line 9\u001b[0m\n\u001b[0;32m      6\u001b[0m device \u001b[38;5;241m=\u001b[39m torch\u001b[38;5;241m.\u001b[39mdevice(\u001b[38;5;124m'\u001b[39m\u001b[38;5;124mcuda:\u001b[39m\u001b[38;5;124m'\u001b[39m \u001b[38;5;241m+\u001b[39m \u001b[38;5;28mstr\u001b[39m(args\u001b[38;5;241m.\u001b[39mgpu)\n\u001b[0;32m      7\u001b[0m                         \u001b[38;5;28;01mif\u001b[39;00m torch\u001b[38;5;241m.\u001b[39mcuda\u001b[38;5;241m.\u001b[39mis_available() \u001b[38;5;28;01melse\u001b[39;00m \u001b[38;5;124m'\u001b[39m\u001b[38;5;124mcpu\u001b[39m\u001b[38;5;124m'\u001b[39m)\n\u001b[0;32m      8\u001b[0m \u001b[38;5;66;03m# load dataset\u001b[39;00m\n\u001b[1;32m----> 9\u001b[0m data_train \u001b[38;5;241m=\u001b[39m \u001b[43mloaddata\u001b[49m\u001b[43m(\u001b[49m\u001b[43margs\u001b[49m\u001b[43m,\u001b[49m\u001b[43mdevice\u001b[49m\u001b[43m)\u001b[49m\n\u001b[0;32m     10\u001b[0m integral_time \u001b[38;5;241m=\u001b[39m args\u001b[38;5;241m.\u001b[39mtimepoints\n\u001b[0;32m     12\u001b[0m time_pts \u001b[38;5;241m=\u001b[39m \u001b[38;5;28mrange\u001b[39m(\u001b[38;5;28mlen\u001b[39m(data_train))\n",
      "File \u001b[1;32m~\\repos\\TIGON\\utility.py:222\u001b[0m, in \u001b[0;36mloaddata\u001b[1;34m(args, device)\u001b[0m\n\u001b[0;32m    221\u001b[0m \u001b[38;5;28;01mdef\u001b[39;00m\u001b[38;5;250m \u001b[39m\u001b[38;5;21mloaddata\u001b[39m(args,device):\n\u001b[1;32m--> 222\u001b[0m     data\u001b[38;5;241m=\u001b[39m\u001b[43mnp\u001b[49m\u001b[38;5;241;43m.\u001b[39;49m\u001b[43mload\u001b[49m\u001b[43m(\u001b[49m\u001b[43mos\u001b[49m\u001b[38;5;241;43m.\u001b[39;49m\u001b[43mpath\u001b[49m\u001b[38;5;241;43m.\u001b[39;49m\u001b[43mjoin\u001b[49m\u001b[43m(\u001b[49m\u001b[43margs\u001b[49m\u001b[38;5;241;43m.\u001b[39;49m\u001b[43minput_dir\u001b[49m\u001b[43m,\u001b[49m\u001b[43m(\u001b[49m\u001b[43margs\u001b[49m\u001b[38;5;241;43m.\u001b[39;49m\u001b[43mdataset\u001b[49m\u001b[38;5;241;43m+\u001b[39;49m\u001b[38;5;124;43m'\u001b[39;49m\u001b[38;5;124;43m.npy\u001b[39;49m\u001b[38;5;124;43m'\u001b[39;49m\u001b[43m)\u001b[49m\u001b[43m)\u001b[49m\u001b[43m,\u001b[49m\u001b[43mallow_pickle\u001b[49m\u001b[38;5;241;43m=\u001b[39;49m\u001b[38;5;28;43;01mTrue\u001b[39;49;00m\u001b[43m)\u001b[49m\n\u001b[0;32m    223\u001b[0m     data_train\u001b[38;5;241m=\u001b[39m[]\n\u001b[0;32m    224\u001b[0m     \u001b[38;5;28;01mfor\u001b[39;00m i \u001b[38;5;129;01min\u001b[39;00m \u001b[38;5;28mrange\u001b[39m(data\u001b[38;5;241m.\u001b[39mshape[\u001b[38;5;241m1\u001b[39m]):\n",
      "File \u001b[1;32mc:\\Users\\jferrarigian\\AppData\\Local\\miniconda3\\envs\\tigon\\lib\\site-packages\\numpy\\lib\\npyio.py:427\u001b[0m, in \u001b[0;36mload\u001b[1;34m(file, mmap_mode, allow_pickle, fix_imports, encoding, max_header_size)\u001b[0m\n\u001b[0;32m    425\u001b[0m     own_fid \u001b[38;5;241m=\u001b[39m \u001b[38;5;28;01mFalse\u001b[39;00m\n\u001b[0;32m    426\u001b[0m \u001b[38;5;28;01melse\u001b[39;00m:\n\u001b[1;32m--> 427\u001b[0m     fid \u001b[38;5;241m=\u001b[39m stack\u001b[38;5;241m.\u001b[39menter_context(\u001b[38;5;28;43mopen\u001b[39;49m\u001b[43m(\u001b[49m\u001b[43mos_fspath\u001b[49m\u001b[43m(\u001b[49m\u001b[43mfile\u001b[49m\u001b[43m)\u001b[49m\u001b[43m,\u001b[49m\u001b[43m \u001b[49m\u001b[38;5;124;43m\"\u001b[39;49m\u001b[38;5;124;43mrb\u001b[39;49m\u001b[38;5;124;43m\"\u001b[39;49m\u001b[43m)\u001b[49m)\n\u001b[0;32m    428\u001b[0m     own_fid \u001b[38;5;241m=\u001b[39m \u001b[38;5;28;01mTrue\u001b[39;00m\n\u001b[0;32m    430\u001b[0m \u001b[38;5;66;03m# Code to distinguish from NumPy binary files and pickles.\u001b[39;00m\n",
      "\u001b[1;31mFileNotFoundError\u001b[0m: [Errno 2] No such file or directory: 'Input/EMT.npy'"
     ]
    }
   ],
   "source": [
    "if __name__ == '__main__':\n",
    "    \n",
    "    random.seed(args.seed)\n",
    "    torch.manual_seed(args.seed)\n",
    "\n",
    "    device = torch.device('cuda:' + str(args.gpu)\n",
    "                            if torch.cuda.is_available() else 'cpu')\n",
    "    # load dataset\n",
    "    data_train = loaddata(args,device)\n",
    "    integral_time = args.timepoints\n",
    "\n",
    "    time_pts = range(len(data_train))\n",
    "    leave_1_out = []\n",
    "    train_time = [x for i,x in enumerate(time_pts) if i!=leave_1_out]\n",
    "\n",
    "\n",
    "    # model\n",
    "    func = UOT(in_out_dim=data_train[0].shape[1], \n",
    "               hidden_dim=args.hidden_dim,\n",
    "               n_hiddens=args.n_hiddens,\n",
    "               activation=args.activation).to(device)\n",
    "    func.apply(initialize_weights)\n",
    "\n",
    "\n",
    "    # configure training options\n",
    "    options = {}\n",
    "    options.update({'method': 'Dopri5'})\n",
    "    options.update({'h': None})\n",
    "    options.update({'rtol': 1e-3})\n",
    "    options.update({'atol': 1e-5})\n",
    "    options.update({'print_neval': False})\n",
    "    options.update({'neval_max': 1000000})\n",
    "    options.update({'safety': None})\n",
    "\n",
    "    optimizer = optim.Adam(func.parameters(), lr=args.lr, weight_decay= 0.01)\n",
    "    lr_adjust = optim.lr_scheduler.MultiStepLR(optimizer, milestones=[args.niters-400,args.niters-200], gamma=0.5, last_epoch=-1)\n",
    "    mse = nn.MSELoss()\n",
    "\n",
    "    LOSS = []\n",
    "    L2_1 = []\n",
    "    L2_2 = []\n",
    "    Trans = []\n",
    "    Sigma = []\n",
    "    \n",
    "    if args.save_dir is not None:\n",
    "        if not os.path.exists(args.save_dir):\n",
    "            os.makedirs(args.save_dir)\n",
    "        ckpt_path = os.path.join(args.save_dir, 'ckpt.pth')\n",
    "        if os.path.exists(ckpt_path):\n",
    "            checkpoint = torch.load(ckpt_path)\n",
    "            func.load_state_dict(checkpoint['func_state_dict'])\n",
    "            optimizer.load_state_dict(checkpoint['optimizer_state_dict'])\n",
    "            print('Loaded ckpt from {}'.format(ckpt_path))\n",
    "\n",
    "    try:\n",
    "        sigma_now = 1\n",
    "        for itr in range(1, args.niters + 1):\n",
    "            optimizer.zero_grad()\n",
    "            \n",
    "            loss, loss1, sigma_now, L2_value1, L2_value2 = \\\n",
    "                train_model(mse,func,args,data_train,train_time,integral_time,\n",
    "                            sigma_now,options,device,itr)\n",
    "\n",
    "            \n",
    "            loss.backward()\n",
    "            optimizer.step()\n",
    "            lr_adjust.step()\n",
    "\n",
    "            LOSS.append(loss.item())\n",
    "            Trans.append(loss1[-1].mean(0).item())\n",
    "            Sigma.append(sigma_now)\n",
    "            L2_1.append(L2_value1.tolist())\n",
    "            L2_2.append(L2_value2.tolist())\n",
    "            \n",
    "            print('Iter: {}, loss: {:.4f}'.format(itr, loss.item()))\n",
    "            \n",
    "            \n",
    "            if itr % 500 == 0:\n",
    "                ckpt_path = os.path.join(args.save_dir, 'ckpt_itr{}.pth'.format(itr))\n",
    "                torch.save({'func_state_dict': func.state_dict()}, ckpt_path)\n",
    "                print('Iter {}, Stored ckpt at {}'.format(itr, ckpt_path))\n",
    "                \n",
    "            \n",
    "            \n",
    "\n",
    "    except KeyboardInterrupt:\n",
    "        if args.save_dir is not None:\n",
    "            ckpt_path = os.path.join(args.save_dir, 'ckpt.pth')\n",
    "            torch.save({\n",
    "                'func_state_dict': func.state_dict(),\n",
    "                'optimizer_state_dict': optimizer.state_dict(),\n",
    "            }, ckpt_path)\n",
    "            print('Stored ckpt at {}'.format(ckpt_path))\n",
    "    print('Training complete after {} iters.'.format(itr))\n",
    "    \n",
    "    \n",
    "    ckpt_path = os.path.join(args.save_dir, 'ckpt.pth')\n",
    "    torch.save({\n",
    "        'func_state_dict': func.state_dict(),\n",
    "        'optimizer_state_dict': optimizer.state_dict(),\n",
    "        'LOSS':LOSS,\n",
    "        'TRANS':Trans,\n",
    "        'L2_1': L2_1,\n",
    "        'L2_2': L2_2,\n",
    "        'Sigma': Sigma\n",
    "    }, ckpt_path)\n",
    "    print('Stored ckpt at {}'.format(ckpt_path))"
   ]
  }
 ],
 "metadata": {
  "kernelspec": {
   "display_name": "tigon",
   "language": "python",
   "name": "python3"
  },
  "language_info": {
   "codemirror_mode": {
    "name": "ipython",
    "version": 3
   },
   "file_extension": ".py",
   "mimetype": "text/x-python",
   "name": "python",
   "nbconvert_exporter": "python",
   "pygments_lexer": "ipython3",
   "version": "3.10.17"
  }
 },
 "nbformat": 4,
 "nbformat_minor": 5
}
